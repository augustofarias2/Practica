{
  "nbformat": 4,
  "nbformat_minor": 0,
  "metadata": {
    "colab": {
      "provenance": [],
      "authorship_tag": "ABX9TyMxP27mN451fdTOp2LdR681",
      "include_colab_link": true
    },
    "kernelspec": {
      "name": "python3",
      "display_name": "Python 3"
    },
    "language_info": {
      "name": "python"
    }
  },
  "cells": [
    {
      "cell_type": "markdown",
      "metadata": {
        "id": "view-in-github",
        "colab_type": "text"
      },
      "source": [
        "<a href=\"https://colab.research.google.com/github/augustofarias2/Practica/blob/master/ej5_6.ipynb\" target=\"_parent\"><img src=\"https://colab.research.google.com/assets/colab-badge.svg\" alt=\"Open In Colab\"/></a>"
      ]
    },
    {
      "cell_type": "markdown",
      "source": [
        "### **5- Genere un video en un patio o en un hall de edificio donde en un principio se vea vacío y luego aparezca una persona. Mediante los métodos de motion detection (sin usar deep learning) logre una detección de la persona cuando entra al cuadro suponiendo la utilidad para una cámara de seguridad. Luego sobre el mismo video aplique los algoritmos de flujo denso y disperso que se mostraron en clase. Escriba una reflexión sobre los resultados en el formato md dentro del Jupyter Notebook.**"
      ],
      "metadata": {
        "id": "pF_YtqIUiT_7"
      }
    },
    {
      "cell_type": "code",
      "execution_count": null,
      "metadata": {
        "id": "mYxbPzEQiFOn"
      },
      "outputs": [],
      "source": []
    },
    {
      "cell_type": "markdown",
      "source": [
        "### **6 - Explique cuál es diferencia entre localización de objetos y clasificación de imágenes. Muestre ejemplos de ello.**"
      ],
      "metadata": {
        "id": "ZqN4vqh9igfi"
      }
    },
    {
      "cell_type": "markdown",
      "source": [
        "La clasificación de imágenes y la localización de objetos están relacionadas pero igualmente, tienen varios puntos que las distinguen.\n",
        "\n",
        "Cuando hablamos de clasificación de imagen nos referimos a la imagen general. Es decir, esta recibe una etiqueta. Un ejemplo de este caso puede ser el del dataset MNIST el cual contiene números y luego de un algoritmo de clasificación, un numero dibujado a mano es detectado y la imagen adquiere la etiqueta del mismo, es decir se clasifica del 0 al 9.\n",
        "\n",
        "Em cambio, cuando  hablamos de localización de objetos en una imagen, una serie de objetos son clasificados en la misma imagen. Esto puede ser en el caso de los autos autónomos, los cuales tienen cámaras que a través de un algoritmo clasifican los objetos vistos, como autos, peatones, carteles de tránsito y demás.\n",
        "\n",
        "La clasificación es devuelta en un intervalo de 0 a 1, con una etiqueta, ese valor dice la probabilidad de pertenecer a la clase de la etiqueta.\n",
        "\n",
        "La localización de objetos es devuelta en varios casos en forma de bounding box, teniendo coordenadas x e y del mismo.\n",
        "\n",
        "Los algoritmos más avanzados de deep learning pueden clasificar los objetos que han localizados.\n",
        "\n",
        "\n"
      ],
      "metadata": {
        "id": "qYgMAGtdikXR"
      }
    }
  ]
}